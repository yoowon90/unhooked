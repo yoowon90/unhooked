{
 "cells": [
  {
   "cell_type": "code",
   "execution_count": 8,
   "id": "c6379c76-f102-4807-b7c4-fee063abc021",
   "metadata": {},
   "outputs": [],
   "source": [
    "import requests\n",
    "import json\n",
    "from bs4 import BeautifulSoup"
   ]
  },
  {
   "cell_type": "code",
   "execution_count": 11,
   "id": "914e4ac9-6890-4048-a594-5b49d9dd24cb",
   "metadata": {},
   "outputs": [],
   "source": [
    "url = 'https://www.google.com/search?q=Loveliest+Looks+Burgundy+Floral+Jacquard+Tie-strap+Midi+Dress+Arrive+looking+like+the+guest+of+honor+in+the+Lulus+Loveliest+Looks+Burgundy+Floral+Jacquard+Tie-Strap+Midi+Dress!+Woven+jacquard+fabric%2C+with+metallic+threading+and+a+floral+design%2C+shapes+this+dress+that+has+tying+straps+and+a+sweetheart+neckline.+Bustier-style+seaming+accents+the+bodice+atop+a+midi+skirt+with+a+front+slit.+Smocking+at+back+for+fit.+Hidden+side+zipper%2Fclasp.&oq=Loveliest+Looks+Burgundy+Floral+Jacquard+Tie-strap+Midi+Dress+Arrive+looking+like+the+guest+of+honor+in+the+Lulus+Loveliest+Looks+Burgundy+Floral+Jacquard+Tie-Strap+Midi+Dress!+Woven+jacquard+fabric%2C+with+metallic+threading+and+a+floral+design%2C+shapes+this+dress+that+has+tying+straps+and+a+sweetheart+neckline.+Bustier-style+seaming+accents+the+bodice+atop+a+midi+skirt+with+a+front+slit.+Smocking+at+back+for+fit.+Hidden+side+zipper%2Fclasp.&gs_lcrp=EgZjaHJvbWUyBggAEEUYOdIBBzE4OWowajSoAgCwAgE&sourceid=chrome&ie=UTF-8'\n",
    "# url = 'https://www.americanvintage-store.com/us/en/VUP14CH24-LEN.html'\n",
    "# url = 'https://www.massimodutti.com/us/ribbed-cotton-short-sleeve-polo-shirt-l06825623'\n",
    "# url = 'https://www.thereformation.com/products/bailey-knit-top/1303993FDL.html?dwvar_1303993FDL_color=FDL&_gl=1*1stbwj4*_up*MQ..&gclid=Cj0KCQjwlIG2BhC4ARIsADBgpVTo_M8nBVjvD36iiGFIt1mdZp25LoyQ2EmsbhEagjhJ7QfH_ZD74P4aAmFxEALw_wcB'\n",
    "# url = \"https://www.thereformation.com/products/bailey-knit-top/1303993FDL.html?dwvar_1303993FDL_color=FDL&_gl=1*1stbwj4*_up*MQ..&gclid=Cj0KCQjwlIG2BhC4ARIsADBgpVTo_M8nBVjvD36iiGFIt1mdZp25LoyQ2EmsbhEagjhJ7QfH_ZD74P4aAmFxEALw_wcB\"\n",
    "header = {\n",
    "  'User-Agent': 'Mozilla/5.0 (Macintosh; Intel Mac OS X 10_14_6) AppleWebKit/537.36 (KHTML, like Gecko) Chrome/99.0.4844.84 Safari/537.36',\n",
    "  'Accept': 'text/html,application/xhtml+xml,application/xml;q=0.9,image/avif,image/webp,image/apng,*/*;q=0.8,application/signed-exchange;v=b3;q=0.9',\n",
    "  'Accept-Charset': 'ISO-8859-1,utf-8;q=0.7,*;q=0.3',\n",
    "  'Accept-Encoding': 'none',\n",
    "  'Accept-Language': 'en-US,en;q=0.8',\n",
    "  'Connection': 'keep-alive',\n",
    "  'refere': 'https://example.com',\n",
    "  'cookie': \"\"\"your cookie value ( you can get that from your web page) \"\"\"\n",
    "}"
   ]
  },
  {
   "cell_type": "code",
   "execution_count": 12,
   "id": "1652800d-b280-431e-a334-8c62ffdc525d",
   "metadata": {
    "scrolled": true
   },
   "outputs": [
    {
     "ename": "TypeError",
     "evalue": "'NoneType' object is not subscriptable",
     "output_type": "error",
     "traceback": [
      "\u001b[0;31m---------------------------------------------------------------------------\u001b[0m",
      "\u001b[0;31mTypeError\u001b[0m                                 Traceback (most recent call last)",
      "Cell \u001b[0;32mIn[12], line 5\u001b[0m\n\u001b[1;32m      3\u001b[0m soup \u001b[38;5;241m=\u001b[39m BeautifulSoup(response\u001b[38;5;241m.\u001b[39mtext, \u001b[38;5;124m'\u001b[39m\u001b[38;5;124mhtml.parser\u001b[39m\u001b[38;5;124m'\u001b[39m)\n\u001b[1;32m      4\u001b[0m image_tag \u001b[38;5;241m=\u001b[39m soup\u001b[38;5;241m.\u001b[39mfind(\u001b[38;5;124m'\u001b[39m\u001b[38;5;124mimg\u001b[39m\u001b[38;5;124m'\u001b[39m, {\u001b[38;5;124m'\u001b[39m\u001b[38;5;124mclass\u001b[39m\u001b[38;5;124m'\u001b[39m: \u001b[38;5;124m'\u001b[39m\u001b[38;5;124mtarget-image-class\u001b[39m\u001b[38;5;124m'\u001b[39m})  \u001b[38;5;66;03m# Adjust the class or id as needed\u001b[39;00m\n\u001b[0;32m----> 5\u001b[0m image_url \u001b[38;5;241m=\u001b[39m \u001b[43mimage_tag\u001b[49m\u001b[43m[\u001b[49m\u001b[38;5;124;43m'\u001b[39;49m\u001b[38;5;124;43msrc\u001b[39;49m\u001b[38;5;124;43m'\u001b[39;49m\u001b[43m]\u001b[49m\n\u001b[1;32m      6\u001b[0m \u001b[38;5;66;03m# Step 5: Download the image using urllib\u001b[39;00m\n\u001b[1;32m      7\u001b[0m \u001b[38;5;66;03m# Ensure the image URL is absolute\u001b[39;00m\n\u001b[1;32m      8\u001b[0m \u001b[38;5;28;01mif\u001b[39;00m \u001b[38;5;129;01mnot\u001b[39;00m image_url\u001b[38;5;241m.\u001b[39mstartswith(\u001b[38;5;124m'\u001b[39m\u001b[38;5;124mhttp\u001b[39m\u001b[38;5;124m'\u001b[39m):\n",
      "\u001b[0;31mTypeError\u001b[0m: 'NoneType' object is not subscriptable"
     ]
    }
   ],
   "source": [
    "response = requests.get(url, headers=header)\n",
    "response.raise_for_status()\n",
    "soup = BeautifulSoup(response.text, 'html.parser')\n",
    "image_tag = soup.find('img', {'class': 'target-image-class'})  # Adjust the class or id as needed\n",
    "image_url = image_tag['src']\n",
    "# Step 5: Download the image using urllib\n",
    "# Ensure the image URL is absolute\n",
    "if not image_url.startswith('http'):\n",
    "    image_url = url + image_url"
   ]
  },
  {
   "cell_type": "code",
   "execution_count": 6,
   "id": "e09a0916-da2d-4259-b6c1-20a1e234fc9a",
   "metadata": {},
   "outputs": [
    {
     "name": "stdout",
     "output_type": "stream",
     "text": [
      "<meta content=\"Shop our Women's dress Vupaville - LENTIL - Green - 100% cotton - line on American Vintage. Returns within 30 days.\" name=\"description\">\n",
      "<meta content=\"American Vintage\" name=\"keywords\">\n",
      "<meta content=\"index, follow\" name=\"robots\"/>\n",
      "<meta content=\"https://www.americanvintage-store.com/us/en/VUP14CH24-LEN.html\" property=\"og:url\"/>\n",
      "<link href=\"https://www.americanvintage-store.com/at/de/VUP14CH24-LEN.html\" hreflang=\"de-AT\" rel=\"alternate\"/>\n",
      "<link href=\"https://www.americanvintage-store.com/it/it/VUP14CH24-LEN.html\" hreflang=\"it-IT\" rel=\"alternate\"/>\n",
      "<link href=\"https://www.americanvintage-store.com/gr/en/VUP14CH24-LEN.html\" hreflang=\"en-GR\" rel=\"alternate\"/>\n",
      "<link href=\"https://www.americanvintage-store.com/it/en/VUP14CH24-LEN.html\" hreflang=\"en-IT\" rel=\"alternate\"/>\n",
      "<link href=\"https://www.americanvintage-store.com/ch/it/VUP14CH24-LEN.html\" hreflang=\"it-CH\" rel=\"alternate\"/>\n",
      "<link href=\"https://www.americanvintage-store.com/be/fr/VUP14CH24-LEN.html\" hreflang=\"fr-BE\" rel=\"alternate\"/>\n",
      "<link href=\"https://www.americanvintage-store.com/es/en/VUP14CH24-LEN.html\" hreflang=\"en-ES\" rel=\"alternate\"/>\n",
      "<link href=\"https://www.americanvintage-store.com/at/en/VUP14CH24-LEN.html\" hreflang=\"en-AT\" rel=\"alternate\"/>\n",
      "<link href=\"https://www.americanvintage-store.com/fr/fr/VUP14CH24-LEN.html\" hreflang=\"fr-FR\" rel=\"alternate\"/>\n",
      "<link href=\"https://www.americanvintage-store.com/cy/en/VUP14CH24-LEN.html\" hreflang=\"en-CY\" rel=\"alternate\"/>\n",
      "<link href=\"https://www.americanvintage-store.com/lu/fr/VUP14CH24-LEN.html\" hreflang=\"fr-LU\" rel=\"alternate\"/>\n",
      "<link href=\"https://www.americanvintage-store.com/cz/en/VUP14CH24-LEN.html\" hreflang=\"en-CZ\" rel=\"alternate\"/>\n",
      "<link href=\"https://www.americanvintage-store.com/de/de/VUP14CH24-LEN.html\" hreflang=\"de-DE\" rel=\"alternate\"/>\n",
      "<link href=\"https://www.americanvintage-store.com/ad/es/VUP14CH24-LEN.html\" hreflang=\"es-AD\" rel=\"alternate\"/>\n",
      "<link href=\"https://www.americanvintage-store.com/pl/en/VUP14CH24-LEN.html\" hreflang=\"en-PL\" rel=\"alternate\"/>\n",
      "<link href=\"https://www.americanvintage-store.com/ch/de/VUP14CH24-LEN.html\" hreflang=\"de-CH\" rel=\"alternate\"/>\n",
      "<link href=\"https://www.americanvintage-store.com/de/en/VUP14CH24-LEN.html\" hreflang=\"en-DE\" rel=\"alternate\"/>\n",
      "<link href=\"https://www.americanvintage-store.com/no/en/VUP14CH24-LEN.html\" hreflang=\"en-NO\" rel=\"alternate\"/>\n",
      "<link href=\"https://www.americanvintage-store.com/nl/en/VUP14CH24-LEN.html\" hreflang=\"en-NL\" rel=\"alternate\"/>\n",
      "<link href=\"https://www.americanvintage-store.com/pt/en/VUP14CH24-LEN.html\" hreflang=\"en-PT\" rel=\"alternate\"/>\n",
      "<link href=\"https://www.americanvintage-store.com/hk/en/VUP14CH24-LEN.html\" hreflang=\"en-HK\" rel=\"alternate\"/>\n",
      "<link href=\"https://www.americanvintage-store.com/es/es/VUP14CH24-LEN.html\" hreflang=\"es-ES\" rel=\"alternate\"/>\n",
      "<link href=\"https://www.americanvintage-store.com/be/en/VUP14CH24-LEN.html\" hreflang=\"en-BE\" rel=\"alternate\"/>\n",
      "<link href=\"https://www.americanvintage-store.com/fi/en/VUP14CH24-LEN.html\" hreflang=\"en-FI\" rel=\"alternate\"/>\n",
      "<link href=\"https://www.americanvintage-store.com/lt/en/VUP14CH24-LEN.html\" hreflang=\"en-LT\" rel=\"alternate\"/>\n",
      "<link href=\"https://www.americanvintage-store.com/lu/en/VUP14CH24-LEN.html\" hreflang=\"en-LU\" rel=\"alternate\"/>\n",
      "<link href=\"https://www.americanvintage-store.com/nl/nl/VUP14CH24-LEN.html\" hreflang=\"nl-NL\" rel=\"alternate\"/>\n",
      "<link href=\"https://www.americanvintage-store.com/dk/en/VUP14CH24-LEN.html\" hreflang=\"en-DK\" rel=\"alternate\"/>\n",
      "<link href=\"https://www.americanvintage-store.com/fr/en/VUP14CH24-LEN.html\" hreflang=\"en-FR\" rel=\"alternate\"/>\n",
      "<link href=\"https://www.americanvintage-store.com/hr/en/VUP14CH24-LEN.html\" hreflang=\"en-HR\" rel=\"alternate\"/>\n",
      "<link href=\"https://www.americanvintage-store.com/lv/en/VUP14CH24-LEN.html\" hreflang=\"en-LV\" rel=\"alternate\"/>\n",
      "<link href=\"https://www.americanvintage-store.com/be/nl/VUP14CH24-LEN.html\" hreflang=\"nl-BE\" rel=\"alternate\"/>\n",
      "<link href=\"https://www.americanvintage-store.com/sg/en/VUP14CH24-LEN.html\" hreflang=\"en-SG\" rel=\"alternate\"/>\n",
      "<link href=\"https://www.americanvintage-store.com/ch/fr/VUP14CH24-LEN.html\" hreflang=\"fr-CH\" rel=\"alternate\"/>\n",
      "<link href=\"https://www.americanvintage-store.com/se/en/VUP14CH24-LEN.html\" hreflang=\"en-SE\" rel=\"alternate\"/>\n",
      "<link href=\"https://www.americanvintage-store.com/sk/en/VUP14CH24-LEN.html\" hreflang=\"en-SK\" rel=\"alternate\"/>\n",
      "<link href=\"https://www.americanvintage-store.com/si/en/VUP14CH24-LEN.html\" hreflang=\"en-SI\" rel=\"alternate\"/>\n",
      "<link href=\"https://www.americanvintage-store.com/ie/en/VUP14CH24-LEN.html\" hreflang=\"en-IE\" rel=\"alternate\"/>\n",
      "<link href=\"https://www.americanvintage-store.com/gb/en/VUP14CH24-LEN.html\" hreflang=\"en-GB\" rel=\"alternate\"/>\n",
      "<link href=\"https://www.americanvintage-store.com/ee/en/VUP14CH24-LEN.html\" hreflang=\"en-EE\" rel=\"alternate\"/>\n",
      "<link href=\"https://www.americanvintage-store.com/sg/fr/VUP14CH24-LEN.html\" hreflang=\"fr-SG\" rel=\"alternate\"/>\n",
      "<link href=\"https://www.americanvintage-store.com/us/en/VUP14CH24-LEN.html\" hreflang=\"en-US\" rel=\"alternate\"/>\n",
      "<link href=\"https://www.americanvintage-store.com/lu/de/VUP14CH24-LEN.html\" hreflang=\"de-LU\" rel=\"alternate\"/>\n",
      "<link href=\"https://www.americanvintage-store.com/ch/en/VUP14CH24-LEN.html\" hreflang=\"en-CH\" rel=\"alternate\"/>\n",
      "<link href=\"https://www.americanvintage-store.com/gb/fr/VUP14CH24-LEN.html\" hreflang=\"fr-GB\" rel=\"alternate\"/>\n",
      "<link href=\"https://www.americanvintage-store.com/mt/en/VUP14CH24-LEN.html\" hreflang=\"en-MT\" rel=\"alternate\"/>\n",
      "<link href=\"/on/demandware.static/Sites-AMV-US-Site/-/default/dw78adecc1/medias/favicon/manifest.json\" rel=\"manifest\"/>\n",
      "<link href=\"/on/demandware.static/Sites-AMV-US-Site/-/default/dw7658ab5d/medias/favicon/apple-icon-57x57.png\" rel=\"apple-touch-icon\" sizes=\"57x57\"/>\n",
      "<link href=\"/on/demandware.static/Sites-AMV-US-Site/-/default/dw0b006d5a/medias/favicon/apple-icon-60x60.png\" rel=\"apple-touch-icon\" sizes=\"60x60\"/>\n",
      "<link href=\"/on/demandware.static/Sites-AMV-US-Site/-/default/dw13747603/medias/favicon/apple-icon-72x72.png\" rel=\"apple-touch-icon\" sizes=\"72x72\"/>\n",
      "<link href=\"/on/demandware.static/Sites-AMV-US-Site/-/default/dw84aab213/medias/favicon/apple-icon-76x76.png\" rel=\"apple-touch-icon\" sizes=\"76x76\"/>\n",
      "<link href=\"/on/demandware.static/Sites-AMV-US-Site/-/default/dwcdf848d0/medias/favicon/apple-icon-114x114.png\" rel=\"apple-touch-icon\" sizes=\"114x114\"/>\n",
      "<link href=\"/on/demandware.static/Sites-AMV-US-Site/-/default/dw0e8768b8/medias/favicon/apple-icon-120x120.png\" rel=\"apple-touch-icon\" sizes=\"120x120\"/>\n",
      "<link href=\"/on/demandware.static/Sites-AMV-US-Site/-/default/dw8ef5bfa8/medias/favicon/apple-icon-144x144.png\" rel=\"apple-touch-icon\" sizes=\"144x144\"/>\n",
      "<link href=\"/on/demandware.static/Sites-AMV-US-Site/-/default/dw6f5ac47b/medias/favicon/apple-icon-152x152.png\" rel=\"apple-touch-icon\" sizes=\"152x152\"/>\n",
      "<link href=\"/on/demandware.static/Sites-AMV-US-Site/-/default/dw105f3152/medias/favicon/apple-icon-180x180.png\" rel=\"apple-touch-icon\" sizes=\"180x180\"/>\n",
      "<link href=\"/on/demandware.static/Sites-AMV-US-Site/-/default/dw7298c07b/medias/favicon/android-icon-192x192.png\" rel=\"icon\" sizes=\"192x192\" type=\"image/png\"/>\n",
      "<link href=\"/on/demandware.static/Sites-AMV-US-Site/-/default/dw8c550328/medias/favicon/favicon-32x32.png\" rel=\"icon\" sizes=\"32x32\" type=\"image/png\"/>\n",
      "<link href=\"/on/demandware.static/Sites-AMV-US-Site/-/default/dw463473f4/medias/favicon/favicon-96x96.png\" rel=\"icon\" sizes=\"96x96\" type=\"image/png\"/>\n",
      "<link href=\"/on/demandware.static/Sites-AMV-US-Site/-/default/dwef63c8ac/medias/favicon/favicon-16x16.png\" rel=\"icon\" sizes=\"16x16\" type=\"image/png\"/>\n",
      "<meta content=\"/on/demandware.static/Sites-AMV-US-Site/-/default/dw15c8be9b/medias/favicon/ms-icon-144x144.png\" name=\"msapplication-TileImage\">\n",
      "<meta content=\"#ffffff\" name=\"msapplication-TileColor\">\n",
      "<meta content=\"#ffffff\" name=\"theme-color\">\n",
      "<script type=\"text/javascript\">//<!--\n",
      "/* <![CDATA[ (head-active_data.js) */\n",
      "var dw = (window.dw || {});\n",
      "dw.ac = {\n",
      "    _analytics: null,\n",
      "    _events: [],\n",
      "    _category: \"\",\n",
      "    _searchData: \"\",\n",
      "    _anact: \"\",\n",
      "    _anact_nohit_tag: \"\",\n",
      "    _analytics_enabled: \"true\",\n",
      "    _timeZone: \"Europe/Paris\",\n",
      "    _capture: function(configs) {\n",
      "        if (Object.prototype.toString.call(configs) === \"[object Array]\") {\n",
      "            configs.forEach(captureObject);\n",
      "            return;\n",
      "        }\n",
      "        dw.ac._events.push(configs);\n",
      "    },\n",
      "\tcapture: function() { \n",
      "\t\tdw.ac._capture(arguments);\n",
      "\t\t// send to CQ as well:\n",
      "\t\tif (window.CQuotient) {\n",
      "\t\t\twindow.CQuotient.trackEventsFromAC(arguments);\n",
      "\t\t}\n",
      "\t},\n",
      "    EV_PRD_SEARCHHIT: \"searchhit\",\n",
      "    EV_PRD_DETAIL: \"detail\",\n",
      "    EV_PRD_RECOMMENDATION: \"recommendation\",\n",
      "    EV_PRD_SETPRODUCT: \"setproduct\",\n",
      "    applyContext: function(context) {\n",
      "        if (typeof context === \"object\" && context.hasOwnProperty(\"category\")) {\n",
      "        \tdw.ac._category = context.category;\n",
      "        }\n",
      "        if (typeof context === \"object\" && context.hasOwnProperty(\"searchData\")) {\n",
      "        \tdw.ac._searchData = context.searchData;\n",
      "        }\n",
      "    },\n",
      "    setDWAnalytics: function(analytics) {\n",
      "        dw.ac._analytics = analytics;\n",
      "    },\n",
      "    eventsIsEmpty: function() {\n",
      "        return 0 == dw.ac._events.length;\n",
      "    }\n",
      "};\n",
      "/* ]]> */\n",
      "// -->\n",
      "</script>\n",
      "<script type=\"text/javascript\">//<!--\n",
      "/* <![CDATA[ (head-cquotient.js) */\n",
      "var CQuotient = window.CQuotient = {};\n",
      "CQuotient.clientId = 'bgnv-AMV-US';\n",
      "CQuotient.realm = 'BGNV';\n",
      "CQuotient.siteId = 'AMV-US';\n",
      "CQuotient.instanceType = 'prd';\n",
      "CQuotient.locale = 'en_US';\n",
      "CQuotient.fbPixelId = '__UNKNOWN__';\n",
      "CQuotient.activities = [];\n",
      "CQuotient.cqcid='';\n",
      "CQuotient.cquid='';\n",
      "CQuotient.cqeid='';\n",
      "CQuotient.cqlid='';\n",
      "CQuotient.apiHost='api.cquotient.com';\n",
      "/* Turn this on to test against Staging Einstein */\n",
      "/* CQuotient.useTest= true; */\n",
      "CQuotient.useTest = ('true' === 'false');\n",
      "CQuotient.initFromCookies = function () {\n",
      "\tvar ca = document.cookie.split(';');\n",
      "\tfor(var i=0;i < ca.length;i++) {\n",
      "\t  var c = ca[i];\n",
      "\t  while (c.charAt(0)==' ') c = c.substring(1,c.length);\n",
      "\t  if (c.indexOf('cqcid=') == 0) {\n",
      "\t\tCQuotient.cqcid=c.substring('cqcid='.length,c.length);\n",
      "\t  } else if (c.indexOf('cquid=') == 0) {\n",
      "\t\t  var value = c.substring('cquid='.length,c.length);\n",
      "\t\t  if (value) {\n",
      "\t\t  \tvar split_value = value.split(\"|\", 3);\n",
      "\t\t  \tif (split_value.length > 0) {\n",
      "\t\t\t  CQuotient.cquid=split_value[0];\n",
      "\t\t  \t}\n",
      "\t\t  \tif (split_value.length > 1) {\n",
      "\t\t\t  CQuotient.cqeid=split_value[1];\n",
      "\t\t  \t}\n",
      "\t\t  \tif (split_value.length > 2) {\n",
      "\t\t\t  CQuotient.cqlid=split_value[2];\n",
      "\t\t  \t}\n",
      "\t\t  }\n",
      "\t  }\n",
      "\t}\n",
      "}\n",
      "CQuotient.getCQCookieId = function () {\n",
      "\tif(window.CQuotient.cqcid == '')\n",
      "\t\twindow.CQuotient.initFromCookies();\n",
      "\treturn window.CQuotient.cqcid;\n",
      "};\n",
      "CQuotient.getCQUserId = function () {\n",
      "\tif(window.CQuotient.cquid == '')\n",
      "\t\twindow.CQuotient.initFromCookies();\n",
      "\treturn window.CQuotient.cquid;\n",
      "};\n",
      "CQuotient.getCQHashedEmail = function () {\n",
      "\tif(window.CQuotient.cqeid == '')\n",
      "\t\twindow.CQuotient.initFromCookies();\n",
      "\treturn window.CQuotient.cqeid;\n",
      "};\n",
      "CQuotient.getCQHashedLogin = function () {\n",
      "\tif(window.CQuotient.cqlid == '')\n",
      "\t\twindow.CQuotient.initFromCookies();\n",
      "\treturn window.CQuotient.cqlid;\n",
      "};\n",
      "CQuotient.trackEventsFromAC = function (/* Object or Array */ events) {\n",
      "try {\n",
      "\tif (Object.prototype.toString.call(events) === \"[object Array]\") {\n",
      "\t\tevents.forEach(_trackASingleCQEvent);\n",
      "\t} else {\n",
      "\t\tCQuotient._trackASingleCQEvent(events);\n",
      "\t}\n",
      "} catch(err) {}\n",
      "};\n",
      "CQuotient._trackASingleCQEvent = function ( /* Object */ event) {\n",
      "\tif (event && event.id) {\n",
      "\t\tif (event.type === dw.ac.EV_PRD_DETAIL) {\n",
      "\t\t\tCQuotient.trackViewProduct( {id:'', alt_id: event.id, type: 'raw_sku'} );\n",
      "\t\t} // not handling the other dw.ac.* events currently\n",
      "\t}\n",
      "};\n",
      "CQuotient.trackViewProduct = function(/* Object */ cqParamData){\n",
      "\tvar cq_params = {};\n",
      "\tcq_params.cookieId = CQuotient.getCQCookieId();\n",
      "\tcq_params.userId = CQuotient.getCQUserId();\n",
      "\tcq_params.emailId = CQuotient.getCQHashedEmail();\n",
      "\tcq_params.loginId = CQuotient.getCQHashedLogin();\n",
      "\tcq_params.product = cqParamData.product;\n",
      "\tcq_params.realm = cqParamData.realm;\n",
      "\tcq_params.siteId = cqParamData.siteId;\n",
      "\tcq_params.instanceType = cqParamData.instanceType;\n",
      "\tcq_params.locale = CQuotient.locale;\n",
      "\t\n",
      "\tif(CQuotient.sendActivity) {\n",
      "\t\tCQuotient.sendActivity(CQuotient.clientId, 'viewProduct', cq_params);\n",
      "\t} else {\n",
      "\t\tCQuotient.activities.push({activityType: 'viewProduct', parameters: cq_params});\n",
      "\t}\n",
      "};\n",
      "/* ]]> */\n",
      "// -->\n",
      "</script>\n",
      "</meta></meta></meta></meta></meta>\n"
     ]
    }
   ],
   "source": [
    "meta_tag = soup.find('meta', {'name': 'description'})\n",
    "print(meta_tag)"
   ]
  },
  {
   "cell_type": "code",
   "execution_count": 7,
   "id": "2e96f499-ec17-4ed1-94f6-deaad9a23d39",
   "metadata": {},
   "outputs": [
    {
     "data": {
      "text/plain": [
       "\"Shop our Women's dress Vupaville - LENTIL - Green - 100% cotton - line on American Vintage. Returns within 30 days.\""
      ]
     },
     "execution_count": 7,
     "metadata": {},
     "output_type": "execute_result"
    }
   ],
   "source": [
    "script_tag = soup.find('meta', {'name': 'description'}).get('content')\n",
    "script_tag"
   ]
  },
  {
   "cell_type": "code",
   "execution_count": null,
   "id": "cb43b751-986e-4847-8738-5b72ad2cdc2e",
   "metadata": {},
   "outputs": [],
   "source": []
  },
  {
   "cell_type": "code",
   "execution_count": 23,
   "id": "f751a835-6ad5-472a-be73-998834dd1bca",
   "metadata": {},
   "outputs": [
    {
     "ename": "TypeError",
     "evalue": "the JSON object must be str, bytes or bytearray, not NoneType",
     "output_type": "error",
     "traceback": [
      "\u001b[0;31m---------------------------------------------------------------------------\u001b[0m",
      "\u001b[0;31mTypeError\u001b[0m                                 Traceback (most recent call last)",
      "Cell \u001b[0;32mIn[23], line 1\u001b[0m\n\u001b[0;32m----> 1\u001b[0m json_data \u001b[38;5;241m=\u001b[39m \u001b[43mjson\u001b[49m\u001b[38;5;241;43m.\u001b[39;49m\u001b[43mloads\u001b[49m\u001b[43m(\u001b[49m\u001b[43mscript_tag\u001b[49m\u001b[43m)\u001b[49m\n",
      "File \u001b[0;32m/Library/Frameworks/Python.framework/Versions/3.12/lib/python3.12/json/__init__.py:339\u001b[0m, in \u001b[0;36mloads\u001b[0;34m(s, cls, object_hook, parse_float, parse_int, parse_constant, object_pairs_hook, **kw)\u001b[0m\n\u001b[1;32m    337\u001b[0m \u001b[38;5;28;01melse\u001b[39;00m:\n\u001b[1;32m    338\u001b[0m     \u001b[38;5;28;01mif\u001b[39;00m \u001b[38;5;129;01mnot\u001b[39;00m \u001b[38;5;28misinstance\u001b[39m(s, (\u001b[38;5;28mbytes\u001b[39m, \u001b[38;5;28mbytearray\u001b[39m)):\n\u001b[0;32m--> 339\u001b[0m         \u001b[38;5;28;01mraise\u001b[39;00m \u001b[38;5;167;01mTypeError\u001b[39;00m(\u001b[38;5;124mf\u001b[39m\u001b[38;5;124m'\u001b[39m\u001b[38;5;124mthe JSON object must be str, bytes or bytearray, \u001b[39m\u001b[38;5;124m'\u001b[39m\n\u001b[1;32m    340\u001b[0m                         \u001b[38;5;124mf\u001b[39m\u001b[38;5;124m'\u001b[39m\u001b[38;5;124mnot \u001b[39m\u001b[38;5;132;01m{\u001b[39;00ms\u001b[38;5;241m.\u001b[39m\u001b[38;5;18m__class__\u001b[39m\u001b[38;5;241m.\u001b[39m\u001b[38;5;18m__name__\u001b[39m\u001b[38;5;132;01m}\u001b[39;00m\u001b[38;5;124m'\u001b[39m)\n\u001b[1;32m    341\u001b[0m     s \u001b[38;5;241m=\u001b[39m s\u001b[38;5;241m.\u001b[39mdecode(detect_encoding(s), \u001b[38;5;124m'\u001b[39m\u001b[38;5;124msurrogatepass\u001b[39m\u001b[38;5;124m'\u001b[39m)\n\u001b[1;32m    343\u001b[0m \u001b[38;5;28;01mif\u001b[39;00m (\u001b[38;5;28mcls\u001b[39m \u001b[38;5;129;01mis\u001b[39;00m \u001b[38;5;28;01mNone\u001b[39;00m \u001b[38;5;129;01mand\u001b[39;00m object_hook \u001b[38;5;129;01mis\u001b[39;00m \u001b[38;5;28;01mNone\u001b[39;00m \u001b[38;5;129;01mand\u001b[39;00m\n\u001b[1;32m    344\u001b[0m         parse_int \u001b[38;5;129;01mis\u001b[39;00m \u001b[38;5;28;01mNone\u001b[39;00m \u001b[38;5;129;01mand\u001b[39;00m parse_float \u001b[38;5;129;01mis\u001b[39;00m \u001b[38;5;28;01mNone\u001b[39;00m \u001b[38;5;129;01mand\u001b[39;00m\n\u001b[1;32m    345\u001b[0m         parse_constant \u001b[38;5;129;01mis\u001b[39;00m \u001b[38;5;28;01mNone\u001b[39;00m \u001b[38;5;129;01mand\u001b[39;00m object_pairs_hook \u001b[38;5;129;01mis\u001b[39;00m \u001b[38;5;28;01mNone\u001b[39;00m \u001b[38;5;129;01mand\u001b[39;00m \u001b[38;5;129;01mnot\u001b[39;00m kw):\n",
      "\u001b[0;31mTypeError\u001b[0m: the JSON object must be str, bytes or bytearray, not NoneType"
     ]
    }
   ],
   "source": [
    "json_data = json.loads(script_tag)"
   ]
  },
  {
   "cell_type": "code",
   "execution_count": 97,
   "id": "f848f4c3-be5f-41de-be6a-779737ecf7a1",
   "metadata": {},
   "outputs": [
    {
     "data": {
      "text/plain": [
       "'54.60'"
      ]
     },
     "execution_count": 97,
     "metadata": {},
     "output_type": "execute_result"
    }
   ],
   "source": [
    "json_data.get('offers', {}).get('price')"
   ]
  },
  {
   "cell_type": "code",
   "execution_count": 100,
   "id": "6f16b55c-52fb-4f92-83a9-f4001843ff4b",
   "metadata": {},
   "outputs": [
    {
     "data": {
      "text/plain": [
       "\"Soft and stretchy if you're into that. Shop the Bailey Knit Top from Reformation, a fitted, off the shoulder, long sleeve top with ruching details.\""
      ]
     },
     "execution_count": 100,
     "metadata": {},
     "output_type": "execute_result"
    }
   ],
   "source": [
    "json_data.get('description')"
   ]
  }
 ],
 "metadata": {
  "kernelspec": {
   "display_name": "Python 3 (ipykernel)",
   "language": "python",
   "name": "python3"
  },
  "language_info": {
   "codemirror_mode": {
    "name": "ipython",
    "version": 3
   },
   "file_extension": ".py",
   "mimetype": "text/x-python",
   "name": "python",
   "nbconvert_exporter": "python",
   "pygments_lexer": "ipython3",
   "version": "3.12.4"
  }
 },
 "nbformat": 4,
 "nbformat_minor": 5
}
