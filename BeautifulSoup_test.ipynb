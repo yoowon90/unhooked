{
 "cells": [
  {
   "cell_type": "code",
   "execution_count": 42,
   "id": "c6379c76-f102-4807-b7c4-fee063abc021",
   "metadata": {},
   "outputs": [],
   "source": [
    "import requests\n",
    "import json\n",
    "from bs4 import BeautifulSoup"
   ]
  },
  {
   "cell_type": "code",
   "execution_count": 43,
   "id": "914e4ac9-6890-4048-a594-5b49d9dd24cb",
   "metadata": {},
   "outputs": [],
   "source": [
    "url = 'https://www.aritzia.com/us/en/product/luxe-lounge-tomorrow-cropped-pant/123166003.html?dwvar_123166_color=4425'\n",
    "# url = 'https://www.bloomingdales.com/shop/product/cinq-a-sept-naia-faux-shearling-jacket?ID=5274338&upc_ID=7969176&Quantity=1&seqNo=3&EXTRA_PARAMETER=BAG&pickInStore=false'\n",
    "# url = 'https://www.apc-us.com/products/blouse-julienne-vialq-f13433_aac?variant=42911449219171&currency=USD&utm_source=social&utm_medium=cpc&utm_campaign=Vervaunt_Social+%2F+CPC_APC_US_Conversion_DPA&utm_term=Remarketing_All+Remarketing+-+%28Mixed+Genders%29&utm_content=Remarketing+DPA&fbadid=120209825233840351&fbclid=PAZXh0bgNhZW0BMABhZGlkAasUnIl9ZV8BpmzeIVNQRlHAMvvI9IZnoPv4szx-vIU1wOcCbGn01e40ocq1ncWS72OwPw_aem_rQ_UuHCVYzaA5g6u_VSKTA&campaign_id=120209825200840351&ad_id=120209825233840351'        \n",
    "# url = 'https://www.americanvintage-store.com/us/en/VUP14CH24-LEN.html'\n",
    "# url = 'https://www.massimodutti.com/us/ribbed-cotton-short-sleeve-polo-shirt-l06825623'\n",
    "# url = 'https://www.thereformation.com/products/bailey-knit-top/1303993FDL.html?dwvar_1303993FDL_color=FDL&_gl=1*1stbwj4*_up*MQ..&gclid=Cj0KCQjwlIG2BhC4ARIsADBgpVTo_M8nBVjvD36iiGFIt1mdZp25LoyQ2EmsbhEagjhJ7QfH_ZD74P4aAmFxEALw_wcB'\n",
    "# url = \"https://www.thereformation.com/products/bailey-knit-top/1303993FDL.html?dwvar_1303993FDL_color=FDL&_gl=1*1stbwj4*_up*MQ..&gclid=Cj0KCQjwlIG2BhC4ARIsADBgpVTo_M8nBVjvD36iiGFIt1mdZp25LoyQ2EmsbhEagjhJ7QfH_ZD74P4aAmFxEALw_wcB\"\n",
    "header = {\n",
    "  'User-Agent': 'Mozilla/5.0 (Macintosh; Intel Mac OS X 10_14_6) AppleWebKit/537.36 (KHTML, like Gecko) Chrome/99.0.4844.84 Safari/537.36',\n",
    "  'Accept': 'text/html,application/xhtml+xml,application/xml;q=0.9,image/avif,image/webp,image/apng,*/*;q=0.8,application/signed-exchange;v=b3;q=0.9',\n",
    "  'Accept-Charset': 'ISO-8859-1,utf-8;q=0.7,*;q=0.3',\n",
    "  'Accept-Encoding': 'none',\n",
    "  'Accept-Language': 'en-US,en;q=0.8',\n",
    "  'Connection': 'keep-alive',\n",
    "  'refere': 'https://example.com',\n",
    "  'cookie': \"\"\"your cookie value ( you can get that from your web page) \"\"\"\n",
    "}"
   ]
  },
  {
   "cell_type": "code",
   "execution_count": 44,
   "id": "1652800d-b280-431e-a334-8c62ffdc525d",
   "metadata": {
    "scrolled": true
   },
   "outputs": [
    {
     "ename": "HTTPError",
     "evalue": "403 Client Error: Forbidden for url: https://www.aritzia.com/us/en/product/luxe-lounge-tomorrow-cropped-pant/123166003.html?dwvar_123166_color=4425",
     "output_type": "error",
     "traceback": [
      "\u001b[0;31m---------------------------------------------------------------------------\u001b[0m",
      "\u001b[0;31mHTTPError\u001b[0m                                 Traceback (most recent call last)",
      "Cell \u001b[0;32mIn[44], line 4\u001b[0m\n\u001b[1;32m      1\u001b[0m \u001b[38;5;66;03m# need to extract name, price (after offers), brand, currency, description, and maybe category\u001b[39;00m\n\u001b[1;32m      3\u001b[0m response \u001b[38;5;241m=\u001b[39m requests\u001b[38;5;241m.\u001b[39mget(url, headers\u001b[38;5;241m=\u001b[39mheader)\n\u001b[0;32m----> 4\u001b[0m \u001b[43mresponse\u001b[49m\u001b[38;5;241;43m.\u001b[39;49m\u001b[43mraise_for_status\u001b[49m\u001b[43m(\u001b[49m\u001b[43m)\u001b[49m\n\u001b[1;32m      5\u001b[0m soup \u001b[38;5;241m=\u001b[39m BeautifulSoup(response\u001b[38;5;241m.\u001b[39mtext, \u001b[38;5;124m'\u001b[39m\u001b[38;5;124mhtml.parser\u001b[39m\u001b[38;5;124m'\u001b[39m)\n\u001b[1;32m      6\u001b[0m \u001b[38;5;28mprint\u001b[39m(soup\u001b[38;5;241m.\u001b[39mprettify())\n",
      "File \u001b[0;32m/Library/Frameworks/Python.framework/Versions/3.12/lib/python3.12/site-packages/requests/models.py:1024\u001b[0m, in \u001b[0;36mResponse.raise_for_status\u001b[0;34m(self)\u001b[0m\n\u001b[1;32m   1019\u001b[0m     http_error_msg \u001b[38;5;241m=\u001b[39m (\n\u001b[1;32m   1020\u001b[0m         \u001b[38;5;124mf\u001b[39m\u001b[38;5;124m\"\u001b[39m\u001b[38;5;132;01m{\u001b[39;00m\u001b[38;5;28mself\u001b[39m\u001b[38;5;241m.\u001b[39mstatus_code\u001b[38;5;132;01m}\u001b[39;00m\u001b[38;5;124m Server Error: \u001b[39m\u001b[38;5;132;01m{\u001b[39;00mreason\u001b[38;5;132;01m}\u001b[39;00m\u001b[38;5;124m for url: \u001b[39m\u001b[38;5;132;01m{\u001b[39;00m\u001b[38;5;28mself\u001b[39m\u001b[38;5;241m.\u001b[39murl\u001b[38;5;132;01m}\u001b[39;00m\u001b[38;5;124m\"\u001b[39m\n\u001b[1;32m   1021\u001b[0m     )\n\u001b[1;32m   1023\u001b[0m \u001b[38;5;28;01mif\u001b[39;00m http_error_msg:\n\u001b[0;32m-> 1024\u001b[0m     \u001b[38;5;28;01mraise\u001b[39;00m HTTPError(http_error_msg, response\u001b[38;5;241m=\u001b[39m\u001b[38;5;28mself\u001b[39m)\n",
      "\u001b[0;31mHTTPError\u001b[0m: 403 Client Error: Forbidden for url: https://www.aritzia.com/us/en/product/luxe-lounge-tomorrow-cropped-pant/123166003.html?dwvar_123166_color=4425"
     ]
    }
   ],
   "source": [
    "# need to extract name, price (after offers), brand, currency, description, and maybe category\n",
    "\n",
    "response = requests.get(url, headers=header)\n",
    "response.raise_for_status()\n",
    "soup = BeautifulSoup(response.text, 'html.parser')\n",
    "print(soup.prettify())\n"
   ]
  },
  {
   "cell_type": "code",
   "execution_count": 41,
   "id": "e09a0916-da2d-4259-b6c1-20a1e234fc9a",
   "metadata": {},
   "outputs": [
    {
     "data": {
      "text/plain": [
       "\"Cinq à Sept Naia Faux Shearling Jacket   | Bloomingdale's Women \""
      ]
     },
     "execution_count": 41,
     "metadata": {},
     "output_type": "execute_result"
    }
   ],
   "source": [
    "soup.find('meta', {'property': 'og:title'}).get('content')"
   ]
  },
  {
   "cell_type": "code",
   "execution_count": 39,
   "id": "2e96f499-ec17-4ed1-94f6-deaad9a23d39",
   "metadata": {},
   "outputs": [
    {
     "data": {
      "text/plain": [
       "{'@context': 'http://schema.org',\n",
       " '@type': 'Product',\n",
       " 'name': 'Naia Faux Shearling Jacket ',\n",
       " 'category': 'Women',\n",
       " 'brand': {'@type': 'Brand', 'name': 'Cinq à Sept'},\n",
       " 'image': 'https://images.bloomingdalesassets.com/is/image/BLM/products/4/optimized/13943464_fpx.tif',\n",
       " 'productID': 5274338,\n",
       " 'url': '/shop/product/cinq-a-sept-naia-faux-shearling-jacket?ID=5274338',\n",
       " 'description': \"Buy Naia Faux Shearling Jacket  at Bloomingdale's today. Free Shipping and Returns available, or Buy Online and Pick-Up In Store!\",\n",
       " 'offers': [{'@type': 'Offer',\n",
       "   'itemOffered': {'@type': 'IndividualProduct', 'color': 'Ivory/ Mahogony'},\n",
       "   'SKU': '194945529990USA',\n",
       "   'price': '297.50',\n",
       "   'priceCurrency': 'USD',\n",
       "   'availability': 'http://schema.org/InStock'},\n",
       "  {'@type': 'Offer',\n",
       "   'itemOffered': {'@type': 'IndividualProduct', 'color': 'Ivory/ Mahogony'},\n",
       "   'SKU': '194945530002USA',\n",
       "   'price': '297.50',\n",
       "   'priceCurrency': 'USD',\n",
       "   'availability': 'http://schema.org/InStock'},\n",
       "  {'@type': 'Offer',\n",
       "   'itemOffered': {'@type': 'IndividualProduct', 'color': 'Ivory/ Mahogony'},\n",
       "   'SKU': '194945530019USA',\n",
       "   'price': '297.50',\n",
       "   'priceCurrency': 'USD',\n",
       "   'availability': 'http://schema.org/InStock'},\n",
       "  {'@type': 'Offer',\n",
       "   'itemOffered': {'@type': 'IndividualProduct', 'color': 'Ivory/ Mahogony'},\n",
       "   'SKU': '194945530026USA',\n",
       "   'price': '297.50',\n",
       "   'priceCurrency': 'USD',\n",
       "   'availability': 'http://schema.org/InStock'},\n",
       "  {'@type': 'Offer',\n",
       "   'itemOffered': {'@type': 'IndividualProduct', 'color': 'Ivory/ Mahogony'},\n",
       "   'SKU': '194945530033USA',\n",
       "   'price': '297.50',\n",
       "   'priceCurrency': 'USD',\n",
       "   'availability': 'http://schema.org/InStock'},\n",
       "  {'@type': 'Offer',\n",
       "   'itemOffered': {'@type': 'IndividualProduct', 'color': 'Ivory/ Mahogony'},\n",
       "   'SKU': '194945530040USA',\n",
       "   'price': '297.50',\n",
       "   'priceCurrency': 'USD',\n",
       "   'availability': 'http://schema.org/InStock'}],\n",
       " 'reviews': [{'@type': 'Review',\n",
       "   'author': {'@type': 'Person', 'name': 'KathGS'},\n",
       "   'description': \"So cute and warm! Small is true to size but the fit is intended to be cropped. Would size up if you want an oversized look. It's slightly quilted on the inside which adds to the warmth.\",\n",
       "   'reviewRating': {'@type': 'Rating',\n",
       "    'bestRating': '5',\n",
       "    'ratingValue': 5,\n",
       "    'worstRating': '1'}},\n",
       "  {'@type': 'Review',\n",
       "   'author': {'@type': 'Person', 'name': 'Shopper'},\n",
       "   'description': 'This is a beautiful, well-made jacket. Unfortunately the shoulders and arms seem too large--  out of proportion with the body of the jacket. For me, not a good fit.',\n",
       "   'reviewRating': {'@type': 'Rating',\n",
       "    'bestRating': '5',\n",
       "    'ratingValue': 5,\n",
       "    'worstRating': '1'}}],\n",
       " 'aggregateRating': {'@type': 'AggregateRating',\n",
       "  'ratingValue': '5.00',\n",
       "  'reviewCount': '2',\n",
       "  'bestRating': '5',\n",
       "  'worstRating': '0'}}"
      ]
     },
     "execution_count": 39,
     "metadata": {},
     "output_type": "execute_result"
    }
   ],
   "source": [
    "script_tag = soup.find('script', {'id': 'productMktData'})\n",
    "json_data = json.loads(script_tag.string)\n",
    "json_data\n",
    "\n"
   ]
  },
  {
   "cell_type": "code",
   "execution_count": null,
   "id": "cb43b751-986e-4847-8738-5b72ad2cdc2e",
   "metadata": {},
   "outputs": [],
   "source": []
  },
  {
   "cell_type": "code",
   "execution_count": 23,
   "id": "f751a835-6ad5-472a-be73-998834dd1bca",
   "metadata": {},
   "outputs": [
    {
     "ename": "TypeError",
     "evalue": "the JSON object must be str, bytes or bytearray, not NoneType",
     "output_type": "error",
     "traceback": [
      "\u001b[0;31m---------------------------------------------------------------------------\u001b[0m",
      "\u001b[0;31mTypeError\u001b[0m                                 Traceback (most recent call last)",
      "Cell \u001b[0;32mIn[23], line 1\u001b[0m\n\u001b[0;32m----> 1\u001b[0m json_data \u001b[38;5;241m=\u001b[39m \u001b[43mjson\u001b[49m\u001b[38;5;241;43m.\u001b[39;49m\u001b[43mloads\u001b[49m\u001b[43m(\u001b[49m\u001b[43mscript_tag\u001b[49m\u001b[43m)\u001b[49m\n",
      "File \u001b[0;32m/Library/Frameworks/Python.framework/Versions/3.12/lib/python3.12/json/__init__.py:339\u001b[0m, in \u001b[0;36mloads\u001b[0;34m(s, cls, object_hook, parse_float, parse_int, parse_constant, object_pairs_hook, **kw)\u001b[0m\n\u001b[1;32m    337\u001b[0m \u001b[38;5;28;01melse\u001b[39;00m:\n\u001b[1;32m    338\u001b[0m     \u001b[38;5;28;01mif\u001b[39;00m \u001b[38;5;129;01mnot\u001b[39;00m \u001b[38;5;28misinstance\u001b[39m(s, (\u001b[38;5;28mbytes\u001b[39m, \u001b[38;5;28mbytearray\u001b[39m)):\n\u001b[0;32m--> 339\u001b[0m         \u001b[38;5;28;01mraise\u001b[39;00m \u001b[38;5;167;01mTypeError\u001b[39;00m(\u001b[38;5;124mf\u001b[39m\u001b[38;5;124m'\u001b[39m\u001b[38;5;124mthe JSON object must be str, bytes or bytearray, \u001b[39m\u001b[38;5;124m'\u001b[39m\n\u001b[1;32m    340\u001b[0m                         \u001b[38;5;124mf\u001b[39m\u001b[38;5;124m'\u001b[39m\u001b[38;5;124mnot \u001b[39m\u001b[38;5;132;01m{\u001b[39;00ms\u001b[38;5;241m.\u001b[39m\u001b[38;5;18m__class__\u001b[39m\u001b[38;5;241m.\u001b[39m\u001b[38;5;18m__name__\u001b[39m\u001b[38;5;132;01m}\u001b[39;00m\u001b[38;5;124m'\u001b[39m)\n\u001b[1;32m    341\u001b[0m     s \u001b[38;5;241m=\u001b[39m s\u001b[38;5;241m.\u001b[39mdecode(detect_encoding(s), \u001b[38;5;124m'\u001b[39m\u001b[38;5;124msurrogatepass\u001b[39m\u001b[38;5;124m'\u001b[39m)\n\u001b[1;32m    343\u001b[0m \u001b[38;5;28;01mif\u001b[39;00m (\u001b[38;5;28mcls\u001b[39m \u001b[38;5;129;01mis\u001b[39;00m \u001b[38;5;28;01mNone\u001b[39;00m \u001b[38;5;129;01mand\u001b[39;00m object_hook \u001b[38;5;129;01mis\u001b[39;00m \u001b[38;5;28;01mNone\u001b[39;00m \u001b[38;5;129;01mand\u001b[39;00m\n\u001b[1;32m    344\u001b[0m         parse_int \u001b[38;5;129;01mis\u001b[39;00m \u001b[38;5;28;01mNone\u001b[39;00m \u001b[38;5;129;01mand\u001b[39;00m parse_float \u001b[38;5;129;01mis\u001b[39;00m \u001b[38;5;28;01mNone\u001b[39;00m \u001b[38;5;129;01mand\u001b[39;00m\n\u001b[1;32m    345\u001b[0m         parse_constant \u001b[38;5;129;01mis\u001b[39;00m \u001b[38;5;28;01mNone\u001b[39;00m \u001b[38;5;129;01mand\u001b[39;00m object_pairs_hook \u001b[38;5;129;01mis\u001b[39;00m \u001b[38;5;28;01mNone\u001b[39;00m \u001b[38;5;129;01mand\u001b[39;00m \u001b[38;5;129;01mnot\u001b[39;00m kw):\n",
      "\u001b[0;31mTypeError\u001b[0m: the JSON object must be str, bytes or bytearray, not NoneType"
     ]
    }
   ],
   "source": [
    "json_data = json.loads(script_tag)"
   ]
  },
  {
   "cell_type": "code",
   "execution_count": 97,
   "id": "f848f4c3-be5f-41de-be6a-779737ecf7a1",
   "metadata": {},
   "outputs": [
    {
     "data": {
      "text/plain": [
       "'54.60'"
      ]
     },
     "execution_count": 97,
     "metadata": {},
     "output_type": "execute_result"
    }
   ],
   "source": [
    "json_data.get('offers', {}).get('price')"
   ]
  },
  {
   "cell_type": "code",
   "execution_count": 100,
   "id": "6f16b55c-52fb-4f92-83a9-f4001843ff4b",
   "metadata": {},
   "outputs": [
    {
     "data": {
      "text/plain": [
       "\"Soft and stretchy if you're into that. Shop the Bailey Knit Top from Reformation, a fitted, off the shoulder, long sleeve top with ruching details.\""
      ]
     },
     "execution_count": 100,
     "metadata": {},
     "output_type": "execute_result"
    }
   ],
   "source": [
    "json_data.get('description')"
   ]
  }
 ],
 "metadata": {
  "kernelspec": {
   "display_name": "Python 3 (ipykernel)",
   "language": "python",
   "name": "python3"
  },
  "language_info": {
   "codemirror_mode": {
    "name": "ipython",
    "version": 3
   },
   "file_extension": ".py",
   "mimetype": "text/x-python",
   "name": "python",
   "nbconvert_exporter": "python",
   "pygments_lexer": "ipython3",
   "version": "3.12.4"
  }
 },
 "nbformat": 4,
 "nbformat_minor": 5
}
