{
 "cells": [
  {
   "cell_type": "code",
   "execution_count": 90,
   "id": "c6379c76-f102-4807-b7c4-fee063abc021",
   "metadata": {},
   "outputs": [],
   "source": [
    "import requests\n",
    "import json\n",
    "from bs4 import BeautifulSoup"
   ]
  },
  {
   "cell_type": "code",
   "execution_count": 96,
   "id": "914e4ac9-6890-4048-a594-5b49d9dd24cb",
   "metadata": {},
   "outputs": [],
   "source": [
    "# url = 'https://shop.mango.com/us/en/p/women/tops/party/lurex-top-with-openwork-details_87054063?c=OR'\n",
    "# url = 'https://www.shopdoen.com/products/lenore-top-mother-of-pearl'\n",
    "# url = 'https://www.aritzia.com/us/en/product/luxe-lounge-tomorrow-cropped-pant/123166003.html?dwvar_123166_color=4425'\n",
    "# url = 'https://www.bloomingdales.com/shop/product/cinq-a-sept-naia-faux-shearling-jacket?ID=5274338&upc_ID=7969176&Quantity=1&seqNo=3&EXTRA_PARAMETER=BAG&pickInStore=false'\n",
    "# url = 'https://www.apc-us.com/products/blouse-julienne-vialq-f13433_aac?variant=42911449219171&currency=USD&utm_source=social&utm_medium=cpc&utm_campaign=Vervaunt_Social+%2F+CPC_APC_US_Conversion_DPA&utm_term=Remarketing_All+Remarketing+-+%28Mixed+Genders%29&utm_content=Remarketing+DPA&fbadid=120209825233840351&fbclid=PAZXh0bgNhZW0BMABhZGlkAasUnIl9ZV8BpmzeIVNQRlHAMvvI9IZnoPv4szx-vIU1wOcCbGn01e40ocq1ncWS72OwPw_aem_rQ_UuHCVYzaA5g6u_VSKTA&campaign_id=120209825200840351&ad_id=120209825233840351'        \n",
    "# url = 'https://www.massimodutti.com/us/knit-cardigan-with-button-detail-l05749641?pelement=48134361'\n",
    "url ='https://www.ralphlauren.com/women-clothing-dresses-jumpsuits/scoopneck-jersey-dress/100049823.html?cgid=women-clothing-dresses-jumpsuits#webcat=content-women-clothing-dresses-jumpsuits&ab=en_US_WLP_Slot_2_S2_Image_SHOP&start=1&cgid=women-clothing-dresses-jumpsuits'\n",
    "header = {\n",
    "  'User-Agent': 'Mozilla/5.0 (Macintosh; Intel Mac OS X 10_14_6) AppleWebKit/537.36 (KHTML, like Gecko) Chrome/99.0.4844.84 Safari/537.36',\n",
    "  'Accept': 'text/html,application/xhtml+xml,application/xml;q=0.9,image/avif,image/webp,image/apng,*/*;q=0.8,application/signed-exchange;v=b3;q=0.9',\n",
    "  'Accept-Charset': 'ISO-8859-1,utf-8;q=0.7,*;q=0.3',\n",
    "  'Accept-Encoding': 'none',\n",
    "  'Accept-Language': 'en-US,en;q=0.8',\n",
    "  'Connection': 'keep-alive',\n",
    "  'refere': 'https://example.com',\n",
    "  'cookie': \"\"\"your cookie value ( you can get that from your web page) \"\"\"\n",
    "}"
   ]
  },
  {
   "cell_type": "code",
   "execution_count": 97,
   "id": "1652800d-b280-431e-a334-8c62ffdc525d",
   "metadata": {
    "scrolled": true
   },
   "outputs": [
    {
     "name": "stdout",
     "output_type": "stream",
     "text": [
      "<!DOCTYPE html>\n",
      "<html lang=\"en\">\n",
      " <head>\n",
      "  <meta charset=\"utf-8\"/>\n",
      "  <meta content=\"width=device-width, initial-scale=1\" name=\"viewport\"/>\n",
      "  <meta content=\"px-captcha\" name=\"description\"/>\n",
      "  <title>\n",
      "   Access to this page has been denied\n",
      "  </title>\n",
      " </head>\n",
      " <body>\n",
      "  <script>\n",
      "   /* PerimeterX assignments */\n",
      "        window._pxVid = '';\n",
      "        window._pxUuid = '00f09c0c-e5cb-11ef-ab94-e41d7d62b280';\n",
      "        window._pxAppId = 'PXjBdHNCWl';\n",
      "        window._pxHostUrl = '/jBdHNCWl/xhr';\n",
      "        window._pxCustomLogo = '';\n",
      "        window._pxJsClientSrc = '/jBdHNCWl/init.js';\n",
      "        window._pxMobile = false;\n",
      "        window._pxFirstPartyEnabled = true;\n",
      "\n",
      "        var pxCaptchaSrc = '/jBdHNCWl/captcha/captcha.js?a=c&u=00f09c0c-e5cb-11ef-ab94-e41d7d62b280&v=&m=0&h=R0VU';\n",
      "        var script = document.createElement('script');\n",
      "        script.src = pxCaptchaSrc;\n",
      "        script.onload = onScriptLoad;\n",
      "        script.onerror = onScriptError;\n",
      "        var onScriptErrorCalled;\n",
      "        document.head.appendChild(script);\n",
      "        var timeoutID = setTimeout(onScriptError, 5000);\n",
      "        function onScriptLoad() {\n",
      "            clearTimeout(timeoutID);\n",
      "            setTimeout(function() {\n",
      "                if (!isContentLoaded()) {\n",
      "                    onScriptError();\n",
      "                }\n",
      "            }, 2500);\n",
      "        }\n",
      "        function onScriptError() {\n",
      "            if (onScriptErrorCalled) {\n",
      "                return;\n",
      "            }\n",
      "            onScriptErrorCalled = true;\n",
      "            script = document.createElement('script');\n",
      "            script.src = 'https://captcha.px-cloud.net/PXjBdHNCWl/captcha.js?a=c&u=00f09c0c-e5cb-11ef-ab94-e41d7d62b280&v=&m=0&h=R0VU';\n",
      "            script.onload = function() {\n",
      "                clearTimeout(timeoutID);\n",
      "            };\n",
      "            script.onerror = window._pxOnError;\n",
      "            document.head.appendChild(script);\n",
      "            timeoutID = setTimeout(function() {\n",
      "                if (!isContentLoaded()) {\n",
      "                    window._pxOnError();\n",
      "                }\n",
      "            }, 5000);\n",
      "        }\n",
      "        function isContentLoaded() {\n",
      "            return !!document.querySelector('div,span');\n",
      "        }\n",
      "        window._pxOnError = function () {\n",
      "            var style = document.createElement('style');\n",
      "            style.innerText = '@import url(https://fonts.googleapis.com/css2?family=Roboto:ital,wght@0,100;0,300;0,400;0,500;0,700;0,900;1,100;1,300;1,400;1,500;1,700;1,900&display=swap);body{background-color:#fafbfc}.px-captcha-error-container{position:fixed;height:340px;background-color:#fff;font-family:Roboto,sans-serif}.px-captcha-error-header{color:#f0f1f2;font-size:29px;margin:67px 0 33px;font-weight:500;line-height:.83;text-align:center}.px-captcha-error-message{color:#f0f1f2;font-size:18px;margin:0 0 29px;line-height:1.33;text-align:center}.px-captcha-error-button{text-align:center;line-height:48px;width:253px;margin:auto;border-radius:50px;border:solid 1px #f0f1f2;font-size:20px;color:#f0f1f2}.px-captcha-error-wrapper{margin:18px 0 0}div.px-captcha-error{margin:auto;text-align:center;width:400px;height:30px;font-size:12px;background-color:#fcf0f2;color:#ce0e2d}img.px-captcha-error{margin:6px 8px -2px 0}.px-captcha-error-refid{border-top:solid 1px #f0eeee;height:27px;margin:13px 0 0;border-radius:0 0 3px 3px;background-color:#fafbfc;font-size:10px;line-height:2.5;text-align:center;color:#b1b5b8}@media (min-width:620px){.px-captcha-error-container{width:530px;top:50%;left:50%;margin-top:-170px;margin-left:-265px;border-radius:3px;box-shadow:0 2px 9px -1px rgba(0,0,0,.13)}}@media (min-width:481px) and (max-width:620px){.px-captcha-error-container{width:85%;top:50%;left:50%;margin-top:-170px;margin-left:-42.5%;border-radius:3px;box-shadow:0 2px 9px -1px rgba(0,0,0,.13)}}@media (max-width:480px){body{background-color:#fff}.px-captcha-error-header{color:#f0f1f2;font-size:29px;margin:55px 0 33px}.px-captcha-error-container{width:530px;top:50%;left:50%;margin-top:-170px;margin-left:-265px}.px-captcha-error-refid{position:fixed;width:100%;left:0;bottom:0;border-radius:0;font-size:14px;line-height:2}}@media (max-width:390px){div.px-captcha-error{font-size:10px}.px-captcha-error-refid{font-size:11px;line-height:2.5}}';\n",
      "            document.head.appendChild(style);\n",
      "            var div = document.createElement('div');\n",
      "            div.className = 'px-captcha-error-container';\n",
      "            div.innerHTML = '<div class=\"px-captcha-error-header\">Before we continue...</div><div class=\"px-captcha-error-message\">Press & Hold to confirm you are<br>a human (and not a bot).</div><div class=\"px-captcha-error-button\">Press & Hold</div><div class=\"px-captcha-error-wrapper\"><div class=\"px-captcha-error\"><img class=\"px-captcha-error\" src=\"data:image/png;base64,iVBORw0KGgoAAAANSUhEUgAAABMAAAAQCAMAAADDGrRQAAAABGdBTUEAALGPC/xhBQAAAAFzUkdCAK7OHOkAAABFUExURUdwTNYELOEGONQILd0AONwALtwEL+AAL9MFLfkJSNQGLdMJLdQJLdQGLdQKLtYFLNcELdUGLdcBL9gFL88OLdUFLNEOLglBhT4AAAAXdFJOUwC8CqgNIRgRoAS1dWWuR4RTjzgryZpYblfkcAAAAI9JREFUGNNdj+sWhCAIhAdvqGVa1r7/oy6RZ7eaH3D4ZACBIed9wlOOMtUnSrEmZ6cHa9YAIfsbCkWrdpi/c50Bk2CO9mNLdMAu03wJA3HpEnfpxbyOg6ruyx8JJi6KNstnslp1dbPd9GnqmuYq7mmcv1zjnbQw8cV0xzkqo+fX1zkjUOO7wnrInUTxJiruC3vtBNRoQQn2AAAAAElFTkSuQmCC\">Please check your internet connection' + (window._pxMobile ? '' : ' or disable your ad-blocker') + '.</div></div><div class=\"px-captcha-error-refid\">Reference ID ' + window._pxUuid + '</div>';\n",
      "            document.body.appendChild(div);\n",
      "            if (window._pxMobile) {\n",
      "                setTimeout(function() {\n",
      "                    location.href = '/px/captcha_close?status=-1';\n",
      "                }, 5000);\n",
      "            }\n",
      "        };\n",
      "  </script>\n",
      "  <script src=\"\">\n",
      "  </script>\n",
      " </body>\n",
      "</html>\n",
      "\n"
     ]
    }
   ],
   "source": [
    "# need to extract name, price (after offers), brand, currency, description, and maybe category\n",
    "\n",
    "response = requests.get(url, headers=header)\n",
    "response.raise_for_status()\n",
    "soup = BeautifulSoup(response.text, 'html.parser')\n",
    "print(soup.prettify())\n"
   ]
  },
  {
   "cell_type": "code",
   "execution_count": 93,
   "id": "e09a0916-da2d-4259-b6c1-20a1e234fc9a",
   "metadata": {},
   "outputs": [
    {
     "ename": "AttributeError",
     "evalue": "'NoneType' object has no attribute 'get'",
     "output_type": "error",
     "traceback": [
      "\u001b[0;31m---------------------------------------------------------------------------\u001b[0m",
      "\u001b[0;31mAttributeError\u001b[0m                            Traceback (most recent call last)",
      "Cell \u001b[0;32mIn[93], line 1\u001b[0m\n\u001b[0;32m----> 1\u001b[0m name \u001b[38;5;241m=\u001b[39m \u001b[43msoup\u001b[49m\u001b[38;5;241;43m.\u001b[39;49m\u001b[43mfind\u001b[49m\u001b[43m(\u001b[49m\u001b[38;5;124;43m'\u001b[39;49m\u001b[38;5;124;43mmeta\u001b[39;49m\u001b[38;5;124;43m'\u001b[39;49m\u001b[43m,\u001b[49m\u001b[43m \u001b[49m\u001b[43m{\u001b[49m\u001b[38;5;124;43m'\u001b[39;49m\u001b[38;5;124;43mproperty\u001b[39;49m\u001b[38;5;124;43m'\u001b[39;49m\u001b[43m:\u001b[49m\u001b[43m \u001b[49m\u001b[38;5;124;43m'\u001b[39;49m\u001b[38;5;124;43mog:title\u001b[39;49m\u001b[38;5;124;43m'\u001b[39;49m\u001b[43m}\u001b[49m\u001b[43m)\u001b[49m\u001b[38;5;241;43m.\u001b[39;49m\u001b[43mget\u001b[49m(\u001b[38;5;124m'\u001b[39m\u001b[38;5;124mcontent\u001b[39m\u001b[38;5;124m'\u001b[39m)\n\u001b[1;32m      2\u001b[0m brand \u001b[38;5;241m=\u001b[39m soup\u001b[38;5;241m.\u001b[39mfind(\u001b[38;5;124m'\u001b[39m\u001b[38;5;124mmeta\u001b[39m\u001b[38;5;124m'\u001b[39m, {\u001b[38;5;124m'\u001b[39m\u001b[38;5;124mproperty\u001b[39m\u001b[38;5;124m'\u001b[39m: \u001b[38;5;124m'\u001b[39m\u001b[38;5;124mog:site_name\u001b[39m\u001b[38;5;124m'\u001b[39m})\u001b[38;5;241m.\u001b[39mget(\u001b[38;5;124m'\u001b[39m\u001b[38;5;124mcontent\u001b[39m\u001b[38;5;124m'\u001b[39m)\n\u001b[1;32m      3\u001b[0m \u001b[38;5;66;03m# <meta content=\"69.99\" itemprop=\"price\"/>\u001b[39;00m\n",
      "\u001b[0;31mAttributeError\u001b[0m: 'NoneType' object has no attribute 'get'"
     ]
    }
   ],
   "source": [
    "name = soup.find('meta', {'property': 'og:title'}).get('content')\n",
    "brand = soup.find('meta', {'property': 'og:site_name'}).get('content')\n",
    "# <meta content=\"69.99\" itemprop=\"price\"/>\n",
    "price = soup.find('meta', {'itemprop': 'price'}).get('content')\n",
    "currency = soup.find('meta', {'itemprop': 'priceCurrency'}).get('content')\n",
    "description = soup.find('meta', {'property': 'og:description'}).get('content')\n",
    "brand"
   ]
  },
  {
   "cell_type": "code",
   "execution_count": 66,
   "id": "2e96f499-ec17-4ed1-94f6-deaad9a23d39",
   "metadata": {},
   "outputs": [
    {
     "data": {
      "text/plain": [
       "'228.00'"
      ]
     },
     "execution_count": 66,
     "metadata": {},
     "output_type": "execute_result"
    }
   ],
   "source": [
    "price = soup.find('meta', {'property': 'og:price:amount'}).get('content')\n",
    "price"
   ]
  },
  {
   "cell_type": "code",
   "execution_count": 68,
   "id": "cb43b751-986e-4847-8738-5b72ad2cdc2e",
   "metadata": {},
   "outputs": [
    {
     "data": {
      "text/plain": [
       "'USD'"
      ]
     },
     "execution_count": 68,
     "metadata": {},
     "output_type": "execute_result"
    }
   ],
   "source": [
    "currency = soup.find('meta', {'property': 'og:price:currency'}).get('content')\n",
    "currency\n",
    "\n"
   ]
  },
  {
   "cell_type": "code",
   "execution_count": 70,
   "id": "f751a835-6ad5-472a-be73-998834dd1bca",
   "metadata": {},
   "outputs": [
    {
     "data": {
      "text/plain": [
       "'In intricate allover floral lace, the ‘30s-inspired Lenore Top features a Peter Pan collar trimmed with scallop-edged lace, short puffed sleeves, and a breezy cut.'"
      ]
     },
     "execution_count": 70,
     "metadata": {},
     "output_type": "execute_result"
    }
   ],
   "source": [
    "description = soup.find('meta', {'property': 'og:description'}).get('content')\n",
    "description\n"
   ]
  },
  {
   "cell_type": "code",
   "execution_count": 71,
   "id": "f848f4c3-be5f-41de-be6a-779737ecf7a1",
   "metadata": {},
   "outputs": [
    {
     "data": {
      "text/plain": [
       "'DÔEN'"
      ]
     },
     "execution_count": 71,
     "metadata": {},
     "output_type": "execute_result"
    }
   ],
   "source": [
    "soup.find('meta', {'property': 'og:site_name'}).get('content')\n"
   ]
  },
  {
   "cell_type": "code",
   "execution_count": 100,
   "id": "6f16b55c-52fb-4f92-83a9-f4001843ff4b",
   "metadata": {},
   "outputs": [
    {
     "data": {
      "text/plain": [
       "\"Soft and stretchy if you're into that. Shop the Bailey Knit Top from Reformation, a fitted, off the shoulder, long sleeve top with ruching details.\""
      ]
     },
     "execution_count": 100,
     "metadata": {},
     "output_type": "execute_result"
    }
   ],
   "source": [
    "json_data.get('description')"
   ]
  }
 ],
 "metadata": {
  "kernelspec": {
   "display_name": "Python 3 (ipykernel)",
   "language": "python",
   "name": "python3"
  },
  "language_info": {
   "codemirror_mode": {
    "name": "ipython",
    "version": 3
   },
   "file_extension": ".py",
   "mimetype": "text/x-python",
   "name": "python",
   "nbconvert_exporter": "python",
   "pygments_lexer": "ipython3",
   "version": "3.12.4"
  }
 },
 "nbformat": 4,
 "nbformat_minor": 5
}
